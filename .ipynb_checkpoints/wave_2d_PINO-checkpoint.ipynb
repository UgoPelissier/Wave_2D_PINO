{
 "cells": [
  {
   "cell_type": "code",
   "execution_count": 36,
   "id": "b410c314",
   "metadata": {},
   "outputs": [],
   "source": [
    "from typing import Dict\n",
    "\n",
    "import numpy as np\n",
    "import torch\n",
    "import torch.nn.functional as F\n",
    "\n",
    "import modulus\n",
    "from modulus.hydra import instantiate_arch, ModulusConfig\n",
    "from modulus.key import Key\n",
    "from modulus.models.layers.spectral_layers import fourier_derivatives\n",
    "from modulus.node import Node\n",
    "\n",
    "from modulus.solver import Solver\n",
    "from modulus.domain import Domain\n",
    "from modulus.domain.constraint import SupervisedGridConstraint\n",
    "from modulus.domain.validator import GridValidator\n",
    "from modulus.dataset import DictGridDataset\n",
    "from modulus.utils.io.plotter import GridValidatorPlotter\n",
    "from modulus.utils.io.vtk import grid_to_vtk\n",
    "\n",
    "import hydra\n",
    "from hydra import compose, initialize\n",
    "\n",
    "from omegaconf import DictConfig, OmegaConf\n",
    "\n",
    "from utilities import download_FNO_dataset, load_FNO_dataset\n",
    "from ops import dx, ddx\n",
    "from dataset.data import data_generator"
   ]
  },
  {
   "cell_type": "code",
   "execution_count": 48,
   "id": "f66158d0",
   "metadata": {},
   "outputs": [],
   "source": [
    "class Wave(torch.nn.Module):\n",
    "    \"Custom Wave PDE definition for PINO\"\n",
    "\n",
    "    def __init__(self):\n",
    "        super().__init__()\n",
    "\n",
    "    def forward(self, input_var: Dict[str, torch.Tensor]) -> Dict[str, torch.Tensor]:\n",
    "        # get inputs\n",
    "        u = input_var[\"sol\"]\n",
    "        ic = input_var[\"IC\"]\n",
    "        c = 1.0\n",
    "        \n",
    "        dxf = 1.0 / u.shape[-2]\n",
    "        dyf = 1.0 / u.shape[-1]\n",
    "        \n",
    "        dduddx_exact = input_var[\"sol__x__x\"]\n",
    "        dduddy_exact = input_var[\"sol__y__y\"]\n",
    "        # compute wave equation\n",
    "        wave = (\n",
    "            1.0\n",
    "            + (c * dduddx_exact)\n",
    "            + (c * dduddy_exact)\n",
    "        )\n",
    "\n",
    "        # Zero outer boundary\n",
    "        wave = F.pad(wave[:, :, 2:-2, 2:-2], [2, 2, 2, 2], \"constant\", 0)\n",
    "        # Return darcy\n",
    "        output_var = {\n",
    "            \"wave\": dxf * wave,\n",
    "        }  # weight boundary loss higher\n",
    "        return output_var"
   ]
  },
  {
   "cell_type": "code",
   "execution_count": 38,
   "id": "e6113c9a",
   "metadata": {},
   "outputs": [
    {
     "name": "stdout",
     "output_type": "stream",
     "text": [
      "{'training': {'max_steps': 10000, 'grad_agg_freq': 1, 'rec_results_freq': 1000, 'rec_validation_freq': '${training.rec_results_freq}', 'rec_inference_freq': '${training.rec_results_freq}', 'rec_monitor_freq': '${training.rec_results_freq}', 'rec_constraint_freq': '${training.rec_results_freq}', 'save_network_freq': 1000, 'print_stats_freq': 100, 'summary_freq': 1000, 'amp': False, 'amp_dtype': 'float16', 'ntk': {'use_ntk': False, 'save_name': None, 'run_freq': 1000}}, 'graph': {'func_arch': False, 'func_arch_allow_partial_hessian': True}, 'stop_criterion': {'metric': None, 'min_delta': None, 'patience': 50000, 'mode': 'min', 'freq': 1000, 'strict': False}, 'profiler': {'profile': False, 'start_step': 0, 'end_step': 100, 'name': 'nvtx'}, 'network_dir': '.', 'initialization_network_dir': '', 'save_filetypes': 'vtk', 'summary_histograms': False, 'jit': False, 'jit_use_nvfuser': True, 'jit_arch_mode': 'only_activation', 'jit_autograd_nodes': False, 'cuda_graphs': False, 'cuda_graph_warmup': 20, 'find_unused_parameters': False, 'broadcast_buffers': False, 'device': '', 'debug': False, 'run_mode': 'train', 'arch': {'decoder': {'arch_type': 'conv_fully_connected', 'input_keys': ['z', 32], 'output_keys': 'sol', 'detach_keys': '???', 'scaling': None, 'layer_size': 32, 'nr_layers': 1, 'skip_connections': False, 'activation_fn': 'silu', 'adaptive_activations': False, 'weight_norm': True}, 'fno': {'arch_type': 'fno', 'input_keys': 'coeff', 'output_keys': '???', 'detach_keys': '???', 'scaling': None, 'dimension': 2, 'nr_fno_layers': 4, 'fno_modes': 12, 'padding': 9, 'padding_type': 'constant', 'activation_fn': 'gelu', 'coord_features': True}}, 'models': '???', 'loss': {'_target_': 'modulus.loss.aggregator.Sum', 'weights': {'sol': 1.0, 'darcy': 0.1}}, 'optimizer': {'_params_': {'compute_gradients': 'adam_compute_gradients', 'apply_gradients': 'adam_apply_gradients'}, '_target_': 'torch.optim.Adam', 'lr': 0.001, 'betas': [0.9, 0.999], 'eps': 1e-08, 'weight_decay': 0.0, 'amsgrad': False}, 'scheduler': {'_target_': 'custom', '_name_': 'tf.ExponentialLR', 'decay_rate': 0.95, 'decay_steps': 1000}, 'batch_size': {'grid': 8, 'validation': 8}, 'custom': {'gradient_method': 'exact', 'ntrain': 10, 'ntest': 2}}\n"
     ]
    }
   ],
   "source": [
    "with initialize(config_path=\"conf\"):\n",
    "    cfg = compose(config_name=\"config_PINO\")\n",
    "    print(cfg)"
   ]
  },
  {
   "cell_type": "code",
   "execution_count": 39,
   "id": "8e4dfaae",
   "metadata": {},
   "outputs": [],
   "source": [
    "input_keys = [\n",
    "    Key(\"IC\")\n",
    "]\n",
    "output_keys = [\n",
    "    Key(\"sol\"),\n",
    "]"
   ]
  },
  {
   "cell_type": "code",
   "execution_count": 40,
   "id": "461a00e9",
   "metadata": {},
   "outputs": [],
   "source": [
    "dim = 2\n",
    "N = 128\n",
    "Nx = 128\n",
    "Ny = 128\n",
    "l = 0.1\n",
    "L = 1.0\n",
    "sigma = 1.0\n",
    "Nu = None\n",
    "dt = 1.0e-4\n",
    "save_int = int(1e-2/dt)\n",
    "device = torch.device('cuda:0' if torch.cuda.is_available() else 'cpu')"
   ]
  },
  {
   "cell_type": "code",
   "execution_count": 41,
   "id": "24e6f476",
   "metadata": {},
   "outputs": [
    {
     "name": "stdout",
     "output_type": "stream",
     "text": [
      "IC shape:  torch.Size([10, 1, 128, 128])\n",
      "Sol shape:  torch.Size([10, 101, 128, 128])\n"
     ]
    }
   ],
   "source": [
    "invar_train, outvar_train = data_generator(dim, N, L, Nu, l, sigma, device, cfg['custom']['ntrain'], Nx, Ny, dt, save_int)\n",
    "invar_test, outvar_test = data_generator(dim, N, L, Nu, l, sigma, device, cfg['custom']['ntest'], Nx, Ny, dt, save_int)\n",
    "\n",
    "print('IC shape: ', invar_train['IC'].shape)\n",
    "print('Sol shape: ', outvar_train['sol'].shape)"
   ]
  },
  {
   "cell_type": "code",
   "execution_count": 42,
   "id": "2dbeb5f9",
   "metadata": {},
   "outputs": [
    {
     "data": {
      "text/plain": [
       "torch.Size([101, 128, 128])"
      ]
     },
     "execution_count": 42,
     "metadata": {},
     "output_type": "execute_result"
    }
   ],
   "source": [
    "train_dataset = DictGridDataset(invar_train, outvar_train)\n",
    "test_dataset = DictGridDataset(invar_test, outvar_test)\n",
    "\n",
    "train_dataset.__getitem__(0)[2]['sol'].shape"
   ]
  },
  {
   "cell_type": "code",
   "execution_count": 47,
   "id": "fb296f77",
   "metadata": {},
   "outputs": [],
   "source": [
    "decoder_net = instantiate_arch(\n",
    "        cfg=cfg.arch.decoder,\n",
    "        output_keys=output_keys,\n",
    "    )\n",
    "fno = instantiate_arch(\n",
    "        cfg=cfg.arch.fno,\n",
    "        input_keys=[input_keys[0]],\n",
    "        decoder_net=decoder_net,\n",
    "    )"
   ]
  },
  {
   "cell_type": "code",
   "execution_count": 50,
   "id": "ad305cd2",
   "metadata": {},
   "outputs": [],
   "source": [
    "inputs = [\n",
    "    \"sol\",\n",
    "    \"IC\"\n",
    "]\n",
    "darcy_node = Node(\n",
    "    inputs=inputs,\n",
    "    outputs=[\"wave\"],\n",
    "    evaluate=Wave(),\n",
    "    name=\"Wave Node\",\n",
    ")\n",
    "nodes = [fno.make_node('fno'), darcy_node]"
   ]
  },
  {
   "cell_type": "code",
   "execution_count": null,
   "id": "8ba2fb66",
   "metadata": {},
   "outputs": [],
   "source": []
  }
 ],
 "metadata": {
  "kernelspec": {
   "display_name": "Python 3 (ipykernel)",
   "language": "python",
   "name": "python3"
  },
  "language_info": {
   "codemirror_mode": {
    "name": "ipython",
    "version": 3
   },
   "file_extension": ".py",
   "mimetype": "text/x-python",
   "name": "python",
   "nbconvert_exporter": "python",
   "pygments_lexer": "ipython3",
   "version": "3.10.8"
  }
 },
 "nbformat": 4,
 "nbformat_minor": 5
}
